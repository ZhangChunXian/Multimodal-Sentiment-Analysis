{
 "cells": [
  {
   "cell_type": "code",
   "execution_count": 1,
   "metadata": {},
   "outputs": [
    {
     "name": "stdout",
     "output_type": "stream",
     "text": [
      "\tCompleted!\n"
     ]
    }
   ],
   "source": [
    "!python get_data.py"
   ]
  },
  {
   "cell_type": "markdown",
   "metadata": {
    "id": "7ao1BJpwQfyE",
    "pycharm": {
     "name": "#%% md\n"
    }
   },
   "source": [
    "# 只输入图片"
   ]
  },
  {
   "cell_type": "code",
   "execution_count": 2,
   "metadata": {
    "colab": {
     "base_uri": "https://localhost:8080/"
    },
    "executionInfo": {
     "elapsed": 153001,
     "status": "ok",
     "timestamp": 1657358905679,
     "user": {
      "displayName": "y fengyu",
      "userId": "14118958655840234398"
     },
     "user_tz": -480
    },
    "id": "w5PYck9yrZo1",
    "outputId": "1e71826a-10a2-46a3-f09e-452a723574aa",
    "pycharm": {
     "name": "#%%\n"
    }
   },
   "outputs": [
    {
     "name": "stdout",
     "output_type": "stream",
     "text": [
      ": not foundage.sh: 2: \n",
      "Some weights of the model checkpoint at bert-base-uncased were not used when initializing mymodel: ['cls.predictions.bias', 'cls.seq_relationship.bias', 'cls.predictions.transform.dense.bias', 'cls.predictions.transform.LayerNorm.bias', 'cls.predictions.transform.dense.weight', 'cls.seq_relationship.weight', 'cls.predictions.transform.LayerNorm.weight']\n",
      "- This IS expected if you are initializing mymodel from the checkpoint of a model trained on another task or with another architecture (e.g. initializing a BertForSequenceClassification model from a BertForPreTraining model).\n",
      "- This IS NOT expected if you are initializing mymodel from the checkpoint of a model that you expect to be exactly identical (initializing a BertForSequenceClassification model from a BertForSequenceClassification model).\n",
      "Some weights of mymodel were not initialized from the model checkpoint at bert-base-uncased and are newly initialized: ['BertEncoder.layer.3.attention.output.dense.weight', 'BertEncoder.layer.1.attention.self.value.weight', 'BertEncoder.layer.0.attention.self.key.bias', 'BertEncoder.layer.6.output.dense.bias', 'BertEncoder.layer.9.attention.self.value.bias', 'BertEncoder.layer.8.output.dense.bias', 'BertEncoder.layer.11.attention.self.key.weight', 'BertEncoder.layer.8.intermediate.dense.bias', 'BertEncoder.layer.9.attention.output.dense.weight', 'BertEncoder.layer.7.attention.output.dense.weight', 'BertEncoder.layer.9.attention.self.key.bias', 'BertEncoder.layer.8.attention.self.key.bias', 'cross_attention.layer.0.attention.output.dense.bias', 'BertEncoder.layer.4.attention.self.query.weight', 'BertEncoder.layer.2.output.dense.weight', 'BertEncoder.layer.5.attention.self.value.weight', 'BertEncoder.layer.8.attention.output.dense.bias', 'cross_attention.layer.0.attention.self.key.bias', 'BertEncoder.layer.3.attention.output.LayerNorm.bias', 'BertEncoder.layer.5.attention.self.key.weight', 'BertEncoder.layer.11.output.LayerNorm.weight', 'cross_attention.layer.0.attention.output.LayerNorm.bias', 'BertEncoder.layer.7.attention.self.query.bias', 'BertEncoder.layer.2.attention.self.query.weight', 'BertEncoder.layer.2.intermediate.dense.bias', 'BertEncoder.layer.11.attention.self.query.bias', 'BertEncoder.layer.1.attention.self.key.bias', 'BertEncoder.layer.3.intermediate.dense.weight', 'cross_attention.layer.0.intermediate.dense.weight', 'BertEncoder.layer.8.output.LayerNorm.weight', 'BertEncoder.layer.8.intermediate.dense.weight', 'BertEncoder.layer.0.attention.output.LayerNorm.weight', 'BertEncoder.layer.11.attention.self.value.bias', 'BertEncoder.layer.6.attention.self.query.weight', 'BertEncoder.layer.10.attention.self.query.bias', 'BertEncoder.layer.4.intermediate.dense.bias', 'BertEncoder.layer.2.output.LayerNorm.bias', 'BertEncoder.layer.5.attention.self.key.bias', 'cross_attention.layer.0.output.LayerNorm.bias', 'BertEncoder.layer.8.attention.self.key.weight', 'BertEncoder.layer.6.intermediate.dense.weight', 'BertEncoder.layer.1.attention.self.key.weight', 'BertEncoder.layer.5.attention.self.query.weight', 'BertEncoder.layer.6.attention.self.value.weight', 'BertEncoder.layer.10.output.dense.bias', 'img_pooler.dense.bias', 'BertEncoder.layer.4.attention.self.value.bias', 'BertEncoder.layer.3.attention.self.query.bias', 'BertEncoder.layer.7.attention.output.dense.bias', 'BertEncoder.layer.1.attention.output.dense.weight', 'BertEncoder.layer.1.intermediate.dense.weight', 'text_pooler.dense.weight', 'BertEncoder.layer.8.attention.self.query.weight', 'BertEncoder.layer.1.attention.output.LayerNorm.weight', 'BertEncoder.layer.11.attention.self.value.weight', 'BertEncoder.layer.10.attention.output.LayerNorm.weight', 'BertEncoder.layer.7.attention.output.LayerNorm.weight', 'BertEncoder.layer.9.attention.self.key.weight', 'BertEncoder.layer.8.attention.output.dense.weight', 'BertEncoder.layer.5.intermediate.dense.bias', 'BertEncoder.layer.10.output.LayerNorm.bias', 'BertEncoder.layer.11.attention.self.query.weight', 'BertEncoder.layer.2.output.dense.bias', 'BertEncoder.layer.6.output.dense.weight', 'classifier.bias', 'BertEncoder.layer.6.attention.output.LayerNorm.bias', 'BertEncoder.layer.3.output.dense.bias', 'BertEncoder.layer.5.intermediate.dense.weight', 'BertEncoder.layer.6.attention.output.dense.weight', 'BertEncoder.layer.10.attention.output.dense.weight', 'BertEncoder.layer.7.output.LayerNorm.weight', 'BertEncoder.layer.4.intermediate.dense.weight', 'BertEncoder.layer.2.attention.self.query.bias', 'BertEncoder.layer.7.attention.self.value.weight', 'BertEncoder.layer.1.intermediate.dense.bias', 'BertEncoder.layer.6.attention.self.key.weight', 'BertEncoder.layer.7.output.LayerNorm.bias', 'BertEncoder.layer.11.output.dense.weight', 'BertEncoder.layer.8.attention.self.value.bias', 'BertEncoder.layer.1.output.LayerNorm.weight', 'BertEncoder.layer.0.attention.output.dense.bias', 'classifier.weight', 'BertEncoder.layer.0.attention.output.LayerNorm.bias', 'BertEncoder.layer.7.output.dense.bias', 'linear.weight', 'BertEncoder.layer.10.attention.self.query.weight', 'BertEncoder.layer.0.output.dense.weight', 'cross_attention.layer.0.attention.output.LayerNorm.weight', 'BertEncoder.layer.6.output.LayerNorm.weight', 'BertEncoder.layer.4.attention.self.query.bias', 'BertEncoder.layer.1.attention.output.dense.bias', 'BertEncoder.layer.10.attention.self.key.bias', 'BertEncoder.layer.4.attention.output.LayerNorm.weight', 'BertEncoder.layer.1.output.LayerNorm.bias', 'BertEncoder.layer.9.attention.self.value.weight', 'BertEncoder.layer.7.attention.self.key.weight', 'BertEncoder.layer.4.attention.self.key.bias', 'BertEncoder.layer.6.attention.output.dense.bias', 'cross_attention.layer.0.intermediate.dense.bias', 'BertEncoder.layer.1.output.dense.bias', 'BertEncoder.layer.11.attention.self.key.bias', 'BertEncoder.layer.9.attention.output.dense.bias', 'BertEncoder.layer.11.attention.output.dense.weight', 'cross_attention.layer.0.attention.self.key.weight', 'cross_attention.layer.0.output.dense.weight', 'BertEncoder.layer.5.output.dense.bias', 'BertEncoder.layer.9.attention.self.query.weight', 'BertEncoder.layer.6.attention.self.query.bias', 'BertEncoder.layer.4.output.dense.bias', 'BertEncoder.layer.10.intermediate.dense.weight', 'BertEncoder.layer.11.output.dense.bias', 'BertEncoder.layer.4.attention.output.LayerNorm.bias', 'BertEncoder.layer.10.attention.self.key.weight', 'BertEncoder.layer.4.attention.self.value.weight', 'BertEncoder.layer.3.output.dense.weight', 'BertEncoder.layer.7.output.dense.weight', 'BertEncoder.layer.3.attention.self.query.weight', 'BertEncoder.layer.11.attention.output.LayerNorm.weight', 'BertEncoder.layer.5.attention.output.LayerNorm.bias', 'BertEncoder.layer.6.output.LayerNorm.bias', 'cross_attention.layer.0.attention.self.value.bias', 'BertEncoder.layer.1.attention.output.LayerNorm.bias', 'BertEncoder.layer.10.attention.self.value.weight', 'BertEncoder.layer.8.output.LayerNorm.bias', 'cross_attention.layer.0.attention.self.query.bias', 'text_pooler.dense.bias', 'BertEncoder.layer.5.output.dense.weight', 'BertEncoder.layer.5.output.LayerNorm.bias', 'BertEncoder.layer.8.attention.output.LayerNorm.bias', 'BertEncoder.layer.2.attention.output.LayerNorm.weight', 'BertEncoder.layer.4.attention.output.dense.weight', 'BertEncoder.layer.5.attention.self.value.bias', 'BertEncoder.layer.2.attention.self.value.weight', 'BertEncoder.layer.9.output.LayerNorm.bias', 'BertEncoder.layer.2.attention.output.LayerNorm.bias', 'BertEncoder.layer.11.output.LayerNorm.bias', 'BertEncoder.layer.10.attention.self.value.bias', 'text_pooler1.dense.bias', 'BertEncoder.layer.3.attention.self.key.bias', 'BertEncoder.layer.9.attention.output.LayerNorm.bias', 'BertEncoder.layer.10.output.dense.weight', 'BertEncoder.layer.3.output.LayerNorm.weight', 'BertEncoder.layer.1.output.dense.weight', 'BertEncoder.layer.0.attention.self.query.bias', 'BertEncoder.layer.8.output.dense.weight', 'BertEncoder.layer.7.attention.output.LayerNorm.bias', 'BertEncoder.layer.2.attention.output.dense.bias', 'BertEncoder.layer.1.attention.self.query.weight', 'cross_attention.layer.0.attention.self.value.weight', 'BertEncoder.layer.0.output.LayerNorm.bias', 'BertEncoder.layer.3.attention.self.value.weight', 'BertEncoder.layer.3.attention.output.dense.bias', 'BertEncoder.layer.7.attention.self.key.bias', 'BertEncoder.layer.3.attention.self.value.bias', 'BertEncoder.layer.8.attention.self.query.bias', 'BertEncoder.layer.4.attention.output.dense.bias', 'BertEncoder.layer.6.attention.output.LayerNorm.weight', 'BertEncoder.layer.6.attention.self.key.bias', 'BertEncoder.layer.9.output.dense.bias', 'BertEncoder.layer.8.attention.self.value.weight', 'BertEncoder.layer.3.output.LayerNorm.bias', 'BertEncoder.layer.3.intermediate.dense.bias', 'BertEncoder.layer.10.attention.output.LayerNorm.bias', 'BertEncoder.layer.0.intermediate.dense.weight', 'BertEncoder.layer.8.attention.output.LayerNorm.weight', 'BertEncoder.layer.9.output.LayerNorm.weight', 'BertEncoder.layer.11.intermediate.dense.bias', 'BertEncoder.layer.0.attention.self.query.weight', 'BertEncoder.layer.7.attention.self.value.bias', 'BertEncoder.layer.2.output.LayerNorm.weight', 'BertEncoder.layer.2.attention.self.key.bias', 'BertEncoder.layer.10.attention.output.dense.bias', 'BertEncoder.layer.6.intermediate.dense.bias', 'BertEncoder.layer.10.intermediate.dense.bias', 'BertEncoder.layer.9.intermediate.dense.weight', 'BertEncoder.layer.5.output.LayerNorm.weight', 'BertEncoder.layer.11.attention.output.dense.bias', 'BertEncoder.layer.9.attention.self.query.bias', 'BertEncoder.layer.9.output.dense.weight', 'BertEncoder.layer.5.attention.self.query.bias', 'BertEncoder.layer.2.intermediate.dense.weight', 'BertEncoder.layer.9.intermediate.dense.bias', 'BertEncoder.layer.5.attention.output.LayerNorm.weight', 'BertEncoder.layer.5.attention.output.dense.bias', 'BertEncoder.layer.0.attention.output.dense.weight', 'BertEncoder.layer.4.output.dense.weight', 'BertEncoder.layer.7.intermediate.dense.weight', 'BertEncoder.layer.0.attention.self.value.weight', 'BertEncoder.layer.2.attention.self.key.weight', 'BertEncoder.layer.6.attention.self.value.bias', 'BertEncoder.layer.0.attention.self.value.bias', 'BertEncoder.layer.7.intermediate.dense.bias', 'BertEncoder.layer.5.attention.output.dense.weight', 'BertEncoder.layer.10.output.LayerNorm.weight', 'BertEncoder.layer.11.intermediate.dense.weight', 'BertEncoder.layer.3.attention.output.LayerNorm.weight', 'BertEncoder.layer.9.attention.output.LayerNorm.weight', 'cross_attention.layer.0.output.LayerNorm.weight', 'BertEncoder.layer.0.attention.self.key.weight', 'BertEncoder.layer.7.attention.self.query.weight', 'cross_attention.layer.0.output.dense.bias', 'linear.bias', 'BertEncoder.layer.4.attention.self.key.weight', 'text_pooler1.dense.weight', 'BertEncoder.layer.0.intermediate.dense.bias', 'cross_attention.layer.0.attention.output.dense.weight', 'BertEncoder.layer.1.attention.self.query.bias', 'BertEncoder.layer.2.attention.self.value.bias', 'BertEncoder.layer.2.attention.output.dense.weight', 'cross_attention.layer.0.attention.self.query.weight', 'BertEncoder.layer.4.output.LayerNorm.weight', 'BertEncoder.layer.11.attention.output.LayerNorm.bias', 'BertEncoder.layer.1.attention.self.value.bias', 'img_pooler.dense.weight', 'BertEncoder.layer.3.attention.self.key.weight', 'BertEncoder.layer.0.output.LayerNorm.weight', 'BertEncoder.layer.0.output.dense.bias', 'BertEncoder.layer.4.output.LayerNorm.bias']\n",
      "You should probably TRAIN this model on a down-stream task to be able to use it for predictions and inference.\n",
      "3699\n",
      "07/14/2023 22:43:23 - INFO - processors.util -   Start Training\n",
      "epoch 0 traning loss 0.9387806806808863: 100%|██| 78/78 [00:03<00:00, 22.17it/s]\n",
      "07/14/2023 22:43:26 - INFO - processors.util -   Start Evaluation\n",
      "epoch 0 dev loss 0.8925320349241558: 100%|██████| 19/19 [00:00<00:00, 37.98it/s]\n",
      "eval_accuracy: 0.6046511627906976 f_score: 0.5201134245892173\n",
      "epoch 1 traning loss 0.8632568426621265: 100%|██| 78/78 [00:02<00:00, 26.76it/s]\n",
      "07/14/2023 22:43:31 - INFO - processors.util -   Start Evaluation\n",
      "epoch 1 dev loss 0.8753075756524739: 100%|██████| 19/19 [00:00<00:00, 39.11it/s]\n",
      "eval_accuracy: 0.6079734219269103 f_score: 0.5127969591384226\n",
      "epoch 2 traning loss 0.8478967073636178: 100%|██| 78/78 [00:02<00:00, 26.96it/s]\n",
      "07/14/2023 22:43:36 - INFO - processors.util -   Start Evaluation\n",
      "epoch 2 dev loss 0.8875485062599182: 100%|██████| 19/19 [00:00<00:00, 39.50it/s]\n",
      "eval_accuracy: 0.6013289036544851 f_score: 0.489356388453397\n",
      "epoch 3 traning loss 0.8393389353385339: 100%|██| 78/78 [00:02<00:00, 26.85it/s]\n",
      "07/14/2023 22:43:40 - INFO - processors.util -   Start Evaluation\n",
      "epoch 3 dev loss 0.8797842891592729: 100%|██████| 19/19 [00:00<00:00, 39.61it/s]\n",
      "eval_accuracy: 0.6046511627906976 f_score: 0.5399792499987898\n",
      "epoch 4 traning loss 0.8320488410118299: 100%|██| 78/78 [00:02<00:00, 27.13it/s]\n",
      "07/14/2023 22:43:43 - INFO - processors.util -   Start Evaluation\n",
      "epoch 4 dev loss 0.8760121998034025: 100%|██████| 19/19 [00:00<00:00, 39.50it/s]\n",
      "eval_accuracy: 0.6312292358803987 f_score: 0.5821643903039251\n",
      "epoch 5 traning loss 0.8140660165212094: 100%|██| 78/78 [00:02<00:00, 26.94it/s]\n",
      "07/14/2023 22:43:48 - INFO - processors.util -   Start Evaluation\n",
      "epoch 5 dev loss 0.874822481682426: 100%|███████| 19/19 [00:00<00:00, 39.00it/s]\n",
      "eval_accuracy: 0.6112956810631229 f_score: 0.5587924993727309\n",
      "epoch 6 traning loss 0.800294388181124: 100%|███| 78/78 [00:02<00:00, 26.53it/s]\n",
      "07/14/2023 22:43:52 - INFO - processors.util -   Start Evaluation\n",
      "epoch 6 dev loss 0.8799593166301125: 100%|██████| 19/19 [00:00<00:00, 38.12it/s]\n",
      "eval_accuracy: 0.6079734219269103 f_score: 0.5566763464849529\n",
      "epoch 7 traning loss 0.796787115243765: 100%|███| 78/78 [00:02<00:00, 27.04it/s]\n",
      "07/14/2023 22:43:55 - INFO - processors.util -   Start Evaluation\n",
      "epoch 7 dev loss 0.8827046155929565: 100%|██████| 19/19 [00:00<00:00, 39.49it/s]\n",
      "eval_accuracy: 0.6013289036544851 f_score: 0.5252266195457241\n",
      "epoch 8 traning loss 0.7880159830435728: 100%|██| 78/78 [00:02<00:00, 26.98it/s]\n",
      "07/14/2023 22:43:58 - INFO - processors.util -   Start Evaluation\n",
      "epoch 8 dev loss 0.8812303041156969: 100%|██████| 19/19 [00:00<00:00, 39.24it/s]\n",
      "eval_accuracy: 0.6046511627906976 f_score: 0.5314087142475274\n",
      "epoch 9 traning loss 0.7896955884419955: 100%|██| 78/78 [00:02<00:00, 26.84it/s]\n",
      "07/14/2023 22:44:02 - INFO - processors.util -   Start Evaluation\n",
      "epoch 9 dev loss 0.8774464883302387: 100%|██████| 19/19 [00:00<00:00, 39.26it/s]\n",
      "eval_accuracy: 0.6146179401993356 f_score: 0.5471749290259583\n"
     ]
    }
   ],
   "source": [
    "!sh run_only_image.sh"
   ]
  },
  {
   "cell_type": "markdown",
   "metadata": {
    "id": "_YQngkRoQmUs",
    "pycharm": {
     "name": "#%% md\n"
    }
   },
   "source": [
    "# 只输入文字"
   ]
  },
  {
   "cell_type": "code",
   "execution_count": 3,
   "metadata": {
    "colab": {
     "base_uri": "https://localhost:8080/"
    },
    "executionInfo": {
     "elapsed": 287553,
     "status": "ok",
     "timestamp": 1657360505360,
     "user": {
      "displayName": "y fengyu",
      "userId": "14118958655840234398"
     },
     "user_tz": -480
    },
    "id": "hwa81wl7Xem2",
    "outputId": "10a3d1a6-1efe-494e-a161-c291e02d1404",
    "pycharm": {
     "name": "#%%\n"
    }
   },
   "outputs": [
    {
     "name": "stdout",
     "output_type": "stream",
     "text": [
      "Some weights of the model checkpoint at bert-base-uncased were not used when initializing mymodel: ['cls.predictions.transform.dense.bias', 'cls.predictions.transform.dense.weight', 'cls.seq_relationship.weight', 'cls.predictions.transform.LayerNorm.weight', 'cls.predictions.transform.LayerNorm.bias', 'cls.seq_relationship.bias', 'cls.predictions.bias']\n",
      "- This IS expected if you are initializing mymodel from the checkpoint of a model trained on another task or with another architecture (e.g. initializing a BertForSequenceClassification model from a BertForPreTraining model).\n",
      "- This IS NOT expected if you are initializing mymodel from the checkpoint of a model that you expect to be exactly identical (initializing a BertForSequenceClassification model from a BertForSequenceClassification model).\n",
      "Some weights of mymodel were not initialized from the model checkpoint at bert-base-uncased and are newly initialized: ['BertEncoder.layer.3.attention.self.key.bias', 'BertEncoder.layer.3.attention.output.LayerNorm.weight', 'BertEncoder.layer.2.attention.output.LayerNorm.weight', 'BertEncoder.layer.1.intermediate.dense.weight', 'BertEncoder.layer.4.intermediate.dense.weight', 'BertEncoder.layer.9.attention.self.query.weight', 'BertEncoder.layer.9.attention.output.LayerNorm.weight', 'BertEncoder.layer.8.intermediate.dense.weight', 'BertEncoder.layer.4.output.dense.weight', 'BertEncoder.layer.10.attention.self.value.weight', 'BertEncoder.layer.10.attention.self.value.bias', 'BertEncoder.layer.7.attention.self.query.weight', 'BertEncoder.layer.8.output.LayerNorm.bias', 'BertEncoder.layer.4.attention.output.dense.bias', 'BertEncoder.layer.8.intermediate.dense.bias', 'BertEncoder.layer.9.attention.self.value.bias', 'BertEncoder.layer.1.attention.output.LayerNorm.weight', 'BertEncoder.layer.7.attention.self.key.bias', 'cross_attention.layer.0.attention.self.key.weight', 'BertEncoder.layer.2.intermediate.dense.bias', 'BertEncoder.layer.7.attention.self.value.weight', 'BertEncoder.layer.4.attention.self.key.weight', 'BertEncoder.layer.9.intermediate.dense.weight', 'BertEncoder.layer.3.attention.self.value.weight', 'BertEncoder.layer.9.attention.self.key.bias', 'BertEncoder.layer.7.attention.output.dense.weight', 'BertEncoder.layer.5.output.LayerNorm.bias', 'BertEncoder.layer.5.attention.self.key.weight', 'BertEncoder.layer.6.intermediate.dense.bias', 'BertEncoder.layer.6.output.LayerNorm.bias', 'BertEncoder.layer.0.intermediate.dense.weight', 'BertEncoder.layer.0.attention.output.LayerNorm.weight', 'BertEncoder.layer.9.attention.output.dense.bias', 'BertEncoder.layer.0.attention.self.value.weight', 'BertEncoder.layer.5.attention.self.query.bias', 'BertEncoder.layer.6.attention.output.LayerNorm.weight', 'BertEncoder.layer.7.output.LayerNorm.weight', 'cross_attention.layer.0.attention.output.dense.weight', 'BertEncoder.layer.9.attention.output.dense.weight', 'BertEncoder.layer.5.intermediate.dense.bias', 'BertEncoder.layer.3.attention.self.query.bias', 'BertEncoder.layer.11.output.LayerNorm.bias', 'BertEncoder.layer.11.attention.self.value.bias', 'BertEncoder.layer.2.attention.self.query.bias', 'BertEncoder.layer.11.attention.self.query.bias', 'BertEncoder.layer.4.attention.self.query.weight', 'cross_attention.layer.0.output.dense.weight', 'cross_attention.layer.0.attention.self.value.weight', 'BertEncoder.layer.2.attention.self.key.bias', 'BertEncoder.layer.8.attention.self.query.bias', 'cross_attention.layer.0.output.LayerNorm.bias', 'BertEncoder.layer.9.intermediate.dense.bias', 'BertEncoder.layer.2.attention.self.value.bias', 'BertEncoder.layer.6.attention.output.dense.bias', 'BertEncoder.layer.1.attention.self.key.bias', 'BertEncoder.layer.9.attention.self.key.weight', 'BertEncoder.layer.3.output.LayerNorm.bias', 'BertEncoder.layer.10.attention.self.query.bias', 'BertEncoder.layer.0.output.dense.bias', 'BertEncoder.layer.5.attention.self.value.bias', 'cross_attention.layer.0.attention.self.key.bias', 'BertEncoder.layer.3.attention.self.key.weight', 'BertEncoder.layer.11.attention.self.key.bias', 'BertEncoder.layer.10.attention.output.dense.bias', 'BertEncoder.layer.2.attention.self.value.weight', 'BertEncoder.layer.10.attention.self.key.weight', 'BertEncoder.layer.5.attention.output.dense.weight', 'BertEncoder.layer.7.attention.self.query.bias', 'BertEncoder.layer.1.attention.self.value.weight', 'BertEncoder.layer.3.intermediate.dense.weight', 'BertEncoder.layer.4.attention.self.value.weight', 'BertEncoder.layer.5.output.LayerNorm.weight', 'BertEncoder.layer.8.attention.output.LayerNorm.weight', 'BertEncoder.layer.10.attention.output.LayerNorm.weight', 'text_pooler.dense.bias', 'BertEncoder.layer.8.attention.self.value.weight', 'BertEncoder.layer.1.attention.output.dense.bias', 'BertEncoder.layer.0.output.LayerNorm.bias', 'BertEncoder.layer.3.output.dense.bias', 'BertEncoder.layer.1.intermediate.dense.bias', 'BertEncoder.layer.2.intermediate.dense.weight', 'BertEncoder.layer.10.attention.output.LayerNorm.bias', 'BertEncoder.layer.7.output.dense.bias', 'BertEncoder.layer.5.attention.self.query.weight', 'BertEncoder.layer.2.output.dense.bias', 'BertEncoder.layer.10.output.LayerNorm.weight', 'BertEncoder.layer.1.attention.self.query.bias', 'classifier.bias', 'BertEncoder.layer.0.attention.self.value.bias', 'BertEncoder.layer.8.attention.self.key.weight', 'BertEncoder.layer.11.output.dense.weight', 'cross_attention.layer.0.attention.output.dense.bias', 'BertEncoder.layer.1.output.LayerNorm.weight', 'BertEncoder.layer.5.attention.self.value.weight', 'BertEncoder.layer.7.attention.self.key.weight', 'BertEncoder.layer.3.intermediate.dense.bias', 'BertEncoder.layer.10.attention.output.dense.weight', 'BertEncoder.layer.11.output.LayerNorm.weight', 'cross_attention.layer.0.attention.self.query.weight', 'BertEncoder.layer.7.attention.output.dense.bias', 'BertEncoder.layer.4.attention.output.dense.weight', 'img_pooler.dense.bias', 'BertEncoder.layer.5.output.dense.bias', 'BertEncoder.layer.7.attention.output.LayerNorm.bias', 'BertEncoder.layer.2.attention.output.dense.weight', 'BertEncoder.layer.8.attention.self.key.bias', 'text_pooler1.dense.weight', 'cross_attention.layer.0.attention.self.query.bias', 'BertEncoder.layer.5.attention.output.dense.bias', 'BertEncoder.layer.2.attention.self.key.weight', 'BertEncoder.layer.1.output.dense.weight', 'cross_attention.layer.0.attention.self.value.bias', 'BertEncoder.layer.0.intermediate.dense.bias', 'cross_attention.layer.0.intermediate.dense.bias', 'BertEncoder.layer.8.output.LayerNorm.weight', 'linear.bias', 'BertEncoder.layer.6.output.dense.weight', 'BertEncoder.layer.5.output.dense.weight', 'BertEncoder.layer.10.output.dense.weight', 'BertEncoder.layer.0.attention.self.key.bias', 'BertEncoder.layer.9.output.dense.bias', 'BertEncoder.layer.6.attention.output.dense.weight', 'BertEncoder.layer.0.output.LayerNorm.weight', 'BertEncoder.layer.11.attention.output.dense.weight', 'BertEncoder.layer.10.output.LayerNorm.bias', 'BertEncoder.layer.9.output.LayerNorm.weight', 'BertEncoder.layer.2.attention.output.dense.bias', 'BertEncoder.layer.2.attention.output.LayerNorm.bias', 'BertEncoder.layer.11.attention.self.key.weight', 'BertEncoder.layer.8.attention.output.LayerNorm.bias', 'BertEncoder.layer.4.output.dense.bias', 'BertEncoder.layer.10.intermediate.dense.bias', 'BertEncoder.layer.0.attention.output.dense.weight', 'BertEncoder.layer.1.output.LayerNorm.bias', 'BertEncoder.layer.2.attention.self.query.weight', 'BertEncoder.layer.7.attention.output.LayerNorm.weight', 'classifier.weight', 'BertEncoder.layer.11.attention.output.LayerNorm.weight', 'BertEncoder.layer.9.output.dense.weight', 'BertEncoder.layer.2.output.dense.weight', 'text_pooler1.dense.bias', 'BertEncoder.layer.7.attention.self.value.bias', 'BertEncoder.layer.8.output.dense.weight', 'img_pooler.dense.weight', 'BertEncoder.layer.1.attention.self.key.weight', 'BertEncoder.layer.5.attention.output.LayerNorm.weight', 'BertEncoder.layer.0.attention.output.dense.bias', 'BertEncoder.layer.6.attention.self.key.weight', 'cross_attention.layer.0.attention.output.LayerNorm.weight', 'BertEncoder.layer.11.attention.output.LayerNorm.bias', 'BertEncoder.layer.5.intermediate.dense.weight', 'BertEncoder.layer.7.output.LayerNorm.bias', 'BertEncoder.layer.4.output.LayerNorm.weight', 'BertEncoder.layer.10.attention.self.key.bias', 'BertEncoder.layer.8.attention.output.dense.bias', 'linear.weight', 'cross_attention.layer.0.attention.output.LayerNorm.bias', 'BertEncoder.layer.6.intermediate.dense.weight', 'BertEncoder.layer.6.attention.self.value.bias', 'cross_attention.layer.0.output.LayerNorm.weight', 'BertEncoder.layer.0.attention.self.key.weight', 'BertEncoder.layer.7.output.dense.weight', 'BertEncoder.layer.6.attention.self.query.weight', 'BertEncoder.layer.11.attention.output.dense.bias', 'BertEncoder.layer.4.attention.output.LayerNorm.weight', 'BertEncoder.layer.8.attention.output.dense.weight', 'BertEncoder.layer.1.attention.output.LayerNorm.bias', 'BertEncoder.layer.8.attention.self.value.bias', 'BertEncoder.layer.6.attention.output.LayerNorm.bias', 'BertEncoder.layer.11.attention.self.query.weight', 'BertEncoder.layer.9.attention.output.LayerNorm.bias', 'cross_attention.layer.0.output.dense.bias', 'BertEncoder.layer.3.attention.output.dense.bias', 'BertEncoder.layer.4.output.LayerNorm.bias', 'BertEncoder.layer.4.attention.self.query.bias', 'BertEncoder.layer.9.attention.self.query.bias', 'BertEncoder.layer.7.intermediate.dense.weight', 'BertEncoder.layer.6.output.LayerNorm.weight', 'BertEncoder.layer.2.output.LayerNorm.bias', 'BertEncoder.layer.3.attention.output.dense.weight', 'BertEncoder.layer.11.intermediate.dense.bias', 'BertEncoder.layer.7.intermediate.dense.bias', 'BertEncoder.layer.4.attention.output.LayerNorm.bias', 'BertEncoder.layer.3.output.LayerNorm.weight', 'BertEncoder.layer.3.attention.self.value.bias', 'BertEncoder.layer.8.attention.self.query.weight', 'cross_attention.layer.0.intermediate.dense.weight', 'BertEncoder.layer.0.attention.self.query.weight', 'BertEncoder.layer.10.intermediate.dense.weight', 'BertEncoder.layer.0.attention.self.query.bias', 'BertEncoder.layer.4.attention.self.value.bias', 'BertEncoder.layer.11.output.dense.bias', 'BertEncoder.layer.11.attention.self.value.weight', 'BertEncoder.layer.3.attention.output.LayerNorm.bias', 'BertEncoder.layer.4.attention.self.key.bias', 'BertEncoder.layer.1.attention.self.query.weight', 'BertEncoder.layer.0.output.dense.weight', 'BertEncoder.layer.1.attention.self.value.bias', 'BertEncoder.layer.4.intermediate.dense.bias', 'BertEncoder.layer.3.output.dense.weight', 'BertEncoder.layer.11.intermediate.dense.weight', 'BertEncoder.layer.1.output.dense.bias', 'BertEncoder.layer.10.output.dense.bias', 'BertEncoder.layer.1.attention.output.dense.weight', 'BertEncoder.layer.3.attention.self.query.weight', 'BertEncoder.layer.6.output.dense.bias', 'BertEncoder.layer.5.attention.self.key.bias', 'BertEncoder.layer.9.attention.self.value.weight', 'BertEncoder.layer.10.attention.self.query.weight', 'BertEncoder.layer.6.attention.self.value.weight', 'BertEncoder.layer.6.attention.self.key.bias', 'BertEncoder.layer.0.attention.output.LayerNorm.bias', 'BertEncoder.layer.2.output.LayerNorm.weight', 'BertEncoder.layer.6.attention.self.query.bias', 'text_pooler.dense.weight', 'BertEncoder.layer.8.output.dense.bias', 'BertEncoder.layer.9.output.LayerNorm.bias', 'BertEncoder.layer.5.attention.output.LayerNorm.bias']\n",
      "You should probably TRAIN this model on a down-stream task to be able to use it for predictions and inference.\n",
      "3699\n",
      "07/14/2023 22:44:12 - INFO - processors.util -   Start Training\n",
      "epoch 0 traning loss 0.9052692623092577: 100%|██| 78/78 [00:03<00:00, 21.22it/s]\n",
      "07/14/2023 22:44:16 - INFO - processors.util -   Start Evaluation\n",
      "epoch 0 dev loss 0.7861866605909247: 100%|██████| 19/19 [00:00<00:00, 63.20it/s]\n",
      "eval_accuracy: 0.654485049833887 f_score: 0.5920587815940437\n",
      "epoch 1 traning loss 0.736706195351405: 100%|███| 78/78 [00:03<00:00, 23.56it/s]\n",
      "07/14/2023 22:44:21 - INFO - processors.util -   Start Evaluation\n",
      "epoch 1 dev loss 0.7489578237659053: 100%|██████| 19/19 [00:00<00:00, 63.16it/s]\n",
      "eval_accuracy: 0.7043189368770764 f_score: 0.6700629141152723\n",
      "epoch 2 traning loss 0.4637065099504514: 100%|██| 78/78 [00:03<00:00, 23.57it/s]\n",
      "07/14/2023 22:44:27 - INFO - processors.util -   Start Evaluation\n",
      "epoch 2 dev loss 0.7648777444111673: 100%|██████| 19/19 [00:00<00:00, 62.67it/s]\n",
      "eval_accuracy: 0.7109634551495017 f_score: 0.6816553272450875\n",
      "epoch 3 traning loss 0.21551894697432333: 100%|█| 78/78 [00:03<00:00, 23.43it/s]\n",
      "07/14/2023 22:44:32 - INFO - processors.util -   Start Evaluation\n",
      "epoch 3 dev loss 1.0610077396819466: 100%|██████| 19/19 [00:00<00:00, 63.19it/s]\n",
      "eval_accuracy: 0.6877076411960132 f_score: 0.6709173011467857\n",
      "epoch 4 traning loss 0.1196614379922931: 100%|██| 78/78 [00:03<00:00, 23.66it/s]\n",
      "07/14/2023 22:44:36 - INFO - processors.util -   Start Evaluation\n",
      "epoch 4 dev loss 1.1243229743681455: 100%|██████| 19/19 [00:00<00:00, 63.52it/s]\n",
      "eval_accuracy: 0.6744186046511628 f_score: 0.6731338886797703\n",
      "epoch 5 traning loss 0.073582463652994: 100%|███| 78/78 [00:03<00:00, 23.73it/s]\n",
      "07/14/2023 22:44:39 - INFO - processors.util -   Start Evaluation\n",
      "epoch 5 dev loss 1.268096177201522: 100%|███████| 19/19 [00:00<00:00, 63.34it/s]\n",
      "eval_accuracy: 0.6943521594684385 f_score: 0.6747216624713368\n",
      "epoch 6 traning loss 0.05186135883634098: 100%|█| 78/78 [00:03<00:00, 23.71it/s]\n",
      "07/14/2023 22:44:43 - INFO - processors.util -   Start Evaluation\n",
      "epoch 6 dev loss 1.3291232946671938: 100%|██████| 19/19 [00:00<00:00, 62.89it/s]\n",
      "eval_accuracy: 0.6943521594684385 f_score: 0.6820974211255502\n",
      "epoch 7 traning loss 0.03990763887906304: 100%|█| 78/78 [00:03<00:00, 23.70it/s]\n",
      "07/14/2023 22:44:46 - INFO - processors.util -   Start Evaluation\n",
      "epoch 7 dev loss 1.358513239182924: 100%|███████| 19/19 [00:00<00:00, 62.86it/s]\n",
      "eval_accuracy: 0.6877076411960132 f_score: 0.683803508152509\n",
      "epoch 8 traning loss 0.033741876463561006: 100%|█| 78/78 [00:03<00:00, 23.70it/s\n",
      "07/14/2023 22:44:50 - INFO - processors.util -   Start Evaluation\n",
      "epoch 8 dev loss 1.3796461914715015: 100%|██████| 19/19 [00:00<00:00, 62.87it/s]\n",
      "eval_accuracy: 0.6877076411960132 f_score: 0.6825878631558863\n",
      "epoch 9 traning loss 0.03166774773629955: 100%|█| 78/78 [00:03<00:00, 23.68it/s]\n",
      "07/14/2023 22:44:54 - INFO - processors.util -   Start Evaluation\n",
      "epoch 9 dev loss 1.3897899797088222: 100%|██████| 19/19 [00:00<00:00, 62.97it/s]\n",
      "eval_accuracy: 0.6976744186046512 f_score: 0.6903342091985372\n"
     ]
    }
   ],
   "source": [
    "!sh run_only_text.sh "
   ]
  },
  {
   "cell_type": "markdown",
   "metadata": {
    "id": "ui_itATxfrEg",
    "pycharm": {
     "name": "#%% md\n"
    }
   },
   "source": [
    "# 输入文字+图像"
   ]
  },
  {
   "cell_type": "code",
   "execution_count": 4,
   "metadata": {
    "colab": {
     "base_uri": "https://localhost:8080/"
    },
    "executionInfo": {
     "elapsed": 887633,
     "status": "ok",
     "timestamp": 1657362048579,
     "user": {
      "displayName": "y fengyu",
      "userId": "14118958655840234398"
     },
     "user_tz": -480
    },
    "id": "kVM_s2L-X5BQ",
    "outputId": "ff8a1987-290f-4bd9-abc1-82799dc418e1",
    "pycharm": {
     "name": "#%%\n"
    }
   },
   "outputs": [
    {
     "name": "stdout",
     "output_type": "stream",
     "text": [
      ": not found\n",
      "Some weights of the model checkpoint at bert-base-uncased were not used when initializing mymodel: ['cls.predictions.transform.LayerNorm.bias', 'cls.seq_relationship.bias', 'cls.predictions.transform.dense.weight', 'cls.predictions.transform.dense.bias', 'cls.predictions.bias', 'cls.seq_relationship.weight', 'cls.predictions.transform.LayerNorm.weight']\n",
      "- This IS expected if you are initializing mymodel from the checkpoint of a model trained on another task or with another architecture (e.g. initializing a BertForSequenceClassification model from a BertForPreTraining model).\n",
      "- This IS NOT expected if you are initializing mymodel from the checkpoint of a model that you expect to be exactly identical (initializing a BertForSequenceClassification model from a BertForSequenceClassification model).\n",
      "Some weights of mymodel were not initialized from the model checkpoint at bert-base-uncased and are newly initialized: ['BertEncoder.layer.6.attention.output.dense.bias', 'BertEncoder.layer.4.attention.self.key.weight', 'BertEncoder.layer.11.attention.output.dense.bias', 'classifier.bias', 'BertEncoder.layer.7.output.LayerNorm.weight', 'BertEncoder.layer.6.output.dense.weight', 'BertEncoder.layer.2.attention.output.dense.weight', 'cross_attention.layer.0.output.dense.weight', 'BertEncoder.layer.7.output.LayerNorm.bias', 'BertEncoder.layer.1.output.dense.weight', 'BertEncoder.layer.0.output.LayerNorm.bias', 'BertEncoder.layer.5.output.dense.bias', 'BertEncoder.layer.5.attention.output.LayerNorm.bias', 'BertEncoder.layer.4.attention.output.LayerNorm.weight', 'BertEncoder.layer.7.attention.output.LayerNorm.bias', 'BertEncoder.layer.0.attention.output.dense.bias', 'BertEncoder.layer.11.output.LayerNorm.weight', 'BertEncoder.layer.6.intermediate.dense.weight', 'BertEncoder.layer.4.attention.output.dense.bias', 'BertEncoder.layer.8.intermediate.dense.bias', 'BertEncoder.layer.1.attention.self.value.bias', 'BertEncoder.layer.6.attention.self.query.weight', 'BertEncoder.layer.0.attention.self.value.weight', 'BertEncoder.layer.8.attention.self.key.weight', 'BertEncoder.layer.2.output.LayerNorm.bias', 'BertEncoder.layer.5.output.LayerNorm.bias', 'BertEncoder.layer.10.output.LayerNorm.weight', 'BertEncoder.layer.4.intermediate.dense.weight', 'BertEncoder.layer.9.output.dense.bias', 'BertEncoder.layer.6.attention.self.value.weight', 'BertEncoder.layer.8.attention.output.LayerNorm.bias', 'cross_attention.layer.0.attention.output.dense.weight', 'BertEncoder.layer.6.attention.self.value.bias', 'BertEncoder.layer.10.intermediate.dense.weight', 'BertEncoder.layer.6.attention.self.key.weight', 'BertEncoder.layer.11.attention.self.query.weight', 'BertEncoder.layer.3.intermediate.dense.bias', 'BertEncoder.layer.3.attention.output.dense.bias', 'BertEncoder.layer.8.attention.output.dense.bias', 'BertEncoder.layer.2.output.dense.bias', 'BertEncoder.layer.6.attention.output.dense.weight', 'BertEncoder.layer.9.attention.self.value.weight', 'BertEncoder.layer.2.attention.self.key.weight', 'BertEncoder.layer.2.attention.self.key.bias', 'BertEncoder.layer.0.intermediate.dense.bias', 'BertEncoder.layer.3.attention.self.query.weight', 'BertEncoder.layer.10.attention.self.value.bias', 'BertEncoder.layer.1.intermediate.dense.weight', 'cross_attention.layer.0.attention.self.key.weight', 'BertEncoder.layer.2.attention.self.query.weight', 'BertEncoder.layer.6.attention.self.query.bias', 'BertEncoder.layer.4.attention.output.LayerNorm.bias', 'BertEncoder.layer.7.intermediate.dense.bias', 'BertEncoder.layer.3.intermediate.dense.weight', 'BertEncoder.layer.3.output.dense.weight', 'BertEncoder.layer.10.attention.self.query.weight', 'BertEncoder.layer.6.output.dense.bias', 'BertEncoder.layer.4.attention.self.key.bias', 'BertEncoder.layer.0.attention.output.LayerNorm.weight', 'BertEncoder.layer.11.attention.output.dense.weight', 'BertEncoder.layer.11.output.LayerNorm.bias', 'cross_attention.layer.0.output.LayerNorm.bias', 'BertEncoder.layer.1.attention.self.query.weight', 'BertEncoder.layer.8.output.dense.bias', 'BertEncoder.layer.6.output.LayerNorm.bias', 'BertEncoder.layer.9.output.LayerNorm.bias', 'BertEncoder.layer.9.attention.self.key.bias', 'BertEncoder.layer.2.intermediate.dense.weight', 'BertEncoder.layer.4.output.dense.bias', 'img_pooler.dense.weight', 'BertEncoder.layer.1.attention.output.dense.weight', 'BertEncoder.layer.9.output.LayerNorm.weight', 'BertEncoder.layer.5.attention.self.key.weight', 'cross_attention.layer.0.attention.output.LayerNorm.bias', 'BertEncoder.layer.3.attention.self.key.weight', 'BertEncoder.layer.9.attention.self.key.weight', 'BertEncoder.layer.9.output.dense.weight', 'text_pooler1.dense.bias', 'cross_attention.layer.0.intermediate.dense.bias', 'BertEncoder.layer.5.attention.self.query.bias', 'BertEncoder.layer.0.attention.self.query.bias', 'BertEncoder.layer.1.attention.self.query.bias', 'BertEncoder.layer.9.attention.output.dense.weight', 'BertEncoder.layer.7.attention.output.dense.weight', 'BertEncoder.layer.0.attention.self.query.weight', 'classifier.weight', 'BertEncoder.layer.4.attention.self.query.weight', 'BertEncoder.layer.1.intermediate.dense.bias', 'BertEncoder.layer.7.attention.output.dense.bias', 'BertEncoder.layer.10.output.dense.bias', 'cross_attention.layer.0.attention.self.value.weight', 'BertEncoder.layer.7.attention.self.key.weight', 'BertEncoder.layer.5.attention.self.query.weight', 'BertEncoder.layer.1.output.LayerNorm.bias', 'BertEncoder.layer.2.intermediate.dense.bias', 'BertEncoder.layer.0.attention.self.value.bias', 'BertEncoder.layer.3.attention.self.value.weight', 'BertEncoder.layer.0.intermediate.dense.weight', 'BertEncoder.layer.4.attention.output.dense.weight', 'BertEncoder.layer.7.attention.self.value.bias', 'BertEncoder.layer.10.intermediate.dense.bias', 'BertEncoder.layer.8.attention.self.query.bias', 'BertEncoder.layer.9.intermediate.dense.bias', 'BertEncoder.layer.10.attention.self.key.bias', 'BertEncoder.layer.2.attention.self.value.weight', 'BertEncoder.layer.6.attention.output.LayerNorm.weight', 'BertEncoder.layer.10.output.dense.weight', 'BertEncoder.layer.4.attention.self.value.weight', 'BertEncoder.layer.8.output.LayerNorm.weight', 'BertEncoder.layer.11.attention.output.LayerNorm.bias', 'BertEncoder.layer.7.attention.self.key.bias', 'BertEncoder.layer.8.attention.self.key.bias', 'BertEncoder.layer.7.attention.self.query.weight', 'BertEncoder.layer.11.attention.self.value.weight', 'BertEncoder.layer.2.attention.output.LayerNorm.weight', 'BertEncoder.layer.1.attention.output.dense.bias', 'BertEncoder.layer.7.attention.output.LayerNorm.weight', 'BertEncoder.layer.5.attention.self.value.weight', 'BertEncoder.layer.10.attention.output.LayerNorm.bias', 'BertEncoder.layer.4.output.LayerNorm.bias', 'cross_attention.layer.0.attention.self.key.bias', 'BertEncoder.layer.10.attention.self.key.weight', 'BertEncoder.layer.10.attention.output.LayerNorm.weight', 'BertEncoder.layer.9.attention.self.value.bias', 'BertEncoder.layer.11.attention.self.key.weight', 'BertEncoder.layer.0.output.LayerNorm.weight', 'BertEncoder.layer.3.attention.self.value.bias', 'BertEncoder.layer.9.attention.output.dense.bias', 'cross_attention.layer.0.attention.output.LayerNorm.weight', 'BertEncoder.layer.1.attention.self.key.weight', 'BertEncoder.layer.9.intermediate.dense.weight', 'BertEncoder.layer.1.attention.output.LayerNorm.bias', 'BertEncoder.layer.11.intermediate.dense.bias', 'BertEncoder.layer.4.intermediate.dense.bias', 'BertEncoder.layer.2.attention.self.value.bias', 'BertEncoder.layer.8.output.dense.weight', 'BertEncoder.layer.2.attention.self.query.bias', 'BertEncoder.layer.3.attention.output.dense.weight', 'BertEncoder.layer.3.attention.output.LayerNorm.bias', 'BertEncoder.layer.11.intermediate.dense.weight', 'BertEncoder.layer.11.output.dense.bias', 'linear.bias', 'BertEncoder.layer.7.output.dense.bias', 'BertEncoder.layer.6.intermediate.dense.bias', 'BertEncoder.layer.4.attention.self.value.bias', 'BertEncoder.layer.7.output.dense.weight', 'BertEncoder.layer.3.output.LayerNorm.weight', 'BertEncoder.layer.1.output.dense.bias', 'BertEncoder.layer.10.attention.self.value.weight', 'BertEncoder.layer.5.intermediate.dense.bias', 'BertEncoder.layer.7.intermediate.dense.weight', 'cross_attention.layer.0.attention.self.query.weight', 'BertEncoder.layer.8.attention.self.value.weight', 'BertEncoder.layer.10.attention.self.query.bias', 'BertEncoder.layer.11.attention.output.LayerNorm.weight', 'BertEncoder.layer.10.output.LayerNorm.bias', 'BertEncoder.layer.5.attention.output.dense.weight', 'BertEncoder.layer.0.attention.self.key.weight', 'BertEncoder.layer.2.attention.output.dense.bias', 'BertEncoder.layer.3.attention.self.query.bias', 'BertEncoder.layer.11.output.dense.weight', 'cross_attention.layer.0.attention.self.query.bias', 'BertEncoder.layer.8.attention.self.value.bias', 'BertEncoder.layer.8.attention.self.query.weight', 'BertEncoder.layer.1.attention.self.value.weight', 'BertEncoder.layer.2.output.LayerNorm.weight', 'BertEncoder.layer.7.attention.self.query.bias', 'BertEncoder.layer.0.attention.self.key.bias', 'BertEncoder.layer.6.attention.self.key.bias', 'BertEncoder.layer.5.attention.output.LayerNorm.weight', 'cross_attention.layer.0.output.LayerNorm.weight', 'cross_attention.layer.0.output.dense.bias', 'BertEncoder.layer.6.output.LayerNorm.weight', 'BertEncoder.layer.0.output.dense.bias', 'cross_attention.layer.0.attention.output.dense.bias', 'BertEncoder.layer.5.output.LayerNorm.weight', 'BertEncoder.layer.5.intermediate.dense.weight', 'BertEncoder.layer.9.attention.self.query.weight', 'BertEncoder.layer.4.attention.self.query.bias', 'BertEncoder.layer.5.output.dense.weight', 'text_pooler.dense.bias', 'BertEncoder.layer.2.output.dense.weight', 'BertEncoder.layer.3.attention.output.LayerNorm.weight', 'text_pooler.dense.weight', 'BertEncoder.layer.3.output.dense.bias', 'BertEncoder.layer.2.attention.output.LayerNorm.bias', 'BertEncoder.layer.5.attention.self.key.bias', 'BertEncoder.layer.4.output.LayerNorm.weight', 'cross_attention.layer.0.intermediate.dense.weight', 'BertEncoder.layer.5.attention.self.value.bias', 'BertEncoder.layer.5.attention.output.dense.bias', 'BertEncoder.layer.0.attention.output.LayerNorm.bias', 'BertEncoder.layer.11.attention.self.value.bias', 'BertEncoder.layer.8.output.LayerNorm.bias', 'BertEncoder.layer.4.output.dense.weight', 'BertEncoder.layer.6.attention.output.LayerNorm.bias', 'BertEncoder.layer.9.attention.output.LayerNorm.weight', 'BertEncoder.layer.3.output.LayerNorm.bias', 'BertEncoder.layer.8.attention.output.LayerNorm.weight', 'BertEncoder.layer.1.attention.output.LayerNorm.weight', 'BertEncoder.layer.10.attention.output.dense.bias', 'BertEncoder.layer.1.attention.self.key.bias', 'BertEncoder.layer.0.attention.output.dense.weight', 'BertEncoder.layer.7.attention.self.value.weight', 'BertEncoder.layer.9.attention.output.LayerNorm.bias', 'text_pooler1.dense.weight', 'BertEncoder.layer.8.intermediate.dense.weight', 'BertEncoder.layer.8.attention.output.dense.weight', 'BertEncoder.layer.0.output.dense.weight', 'cross_attention.layer.0.attention.self.value.bias', 'BertEncoder.layer.1.output.LayerNorm.weight', 'BertEncoder.layer.10.attention.output.dense.weight', 'linear.weight', 'BertEncoder.layer.3.attention.self.key.bias', 'img_pooler.dense.bias', 'BertEncoder.layer.9.attention.self.query.bias', 'BertEncoder.layer.11.attention.self.query.bias', 'BertEncoder.layer.11.attention.self.key.bias']\n",
      "You should probably TRAIN this model on a down-stream task to be able to use it for predictions and inference.\n",
      "3699\n",
      "07/14/2023 22:45:13 - INFO - processors.util -   Start Training\n",
      "epoch 0 traning loss 0.8859351384334075: 100%|██| 78/78 [00:24<00:00,  3.13it/s]\n",
      "07/14/2023 22:45:38 - INFO - processors.util -   Start Evaluation\n",
      "epoch 0 dev loss 0.750876928630628: 100%|███████| 19/19 [00:01<00:00,  9.98it/s]\n",
      "eval_accuracy: 0.6943521594684385 f_score: 0.6411092613046616\n",
      "epoch 1 traning loss 0.6933116775292617: 100%|██| 78/78 [00:23<00:00,  3.27it/s]\n",
      "07/14/2023 22:46:05 - INFO - processors.util -   Start Evaluation\n",
      "epoch 1 dev loss 0.644137936987375: 100%|███████| 19/19 [00:01<00:00, 10.06it/s]\n",
      "eval_accuracy: 0.7508305647840532 f_score: 0.7446435862823828\n",
      "epoch 2 traning loss 0.4714757643449001: 100%|██| 78/78 [00:24<00:00,  3.25it/s]\n",
      "07/14/2023 22:46:33 - INFO - processors.util -   Start Evaluation\n",
      "epoch 2 dev loss 0.5849401543014928: 100%|██████| 19/19 [00:01<00:00, 10.06it/s]\n",
      "eval_accuracy: 0.760797342192691 f_score: 0.7441722549177612\n",
      "epoch 3 traning loss 0.31956063784085786: 100%|█| 78/78 [00:24<00:00,  3.24it/s]\n",
      "07/14/2023 22:47:00 - INFO - processors.util -   Start Evaluation\n",
      "epoch 3 dev loss 0.7660895872272944: 100%|██████| 19/19 [00:01<00:00, 10.02it/s]\n",
      "eval_accuracy: 0.7541528239202658 f_score: 0.7485745518260568\n",
      "epoch 4 traning loss 0.21311660493031526: 100%|█| 78/78 [00:24<00:00,  3.24it/s]\n",
      "07/14/2023 22:47:26 - INFO - processors.util -   Start Evaluation\n",
      "epoch 4 dev loss 0.9124976844575844: 100%|██████| 19/19 [00:01<00:00, 10.14it/s]\n",
      "eval_accuracy: 0.7641196013289037 f_score: 0.7452487794766107\n",
      "epoch 5 traning loss 0.1532599709999676: 100%|██| 78/78 [00:24<00:00,  3.25it/s]\n",
      "07/14/2023 22:47:54 - INFO - processors.util -   Start Evaluation\n",
      "epoch 5 dev loss 0.9822353636355776: 100%|██████| 19/19 [00:01<00:00, 10.13it/s]\n",
      "eval_accuracy: 0.7508305647840532 f_score: 0.7362727955319215\n",
      "epoch 6 traning loss 0.10716801196432267: 100%|█| 78/78 [00:24<00:00,  3.24it/s]\n",
      "07/14/2023 22:48:20 - INFO - processors.util -   Start Evaluation\n",
      "epoch 6 dev loss 0.84593147598207: 100%|████████| 19/19 [00:01<00:00, 10.08it/s]\n",
      "eval_accuracy: 0.7574750830564784 f_score: 0.7483031793272233\n",
      "epoch 7 traning loss 0.0906224497474539: 100%|██| 78/78 [00:24<00:00,  3.23it/s]\n",
      "07/14/2023 22:48:46 - INFO - processors.util -   Start Evaluation\n",
      "epoch 7 dev loss 0.8608327021724299: 100%|██████| 19/19 [00:01<00:00, 10.11it/s]\n",
      "eval_accuracy: 0.7475083056478405 f_score: 0.7419922886419886\n",
      "epoch 8 traning loss 0.07757229088710095: 100%|█| 78/78 [00:24<00:00,  3.22it/s]\n",
      "07/14/2023 22:49:12 - INFO - processors.util -   Start Evaluation\n",
      "epoch 8 dev loss 0.906063555788837: 100%|███████| 19/19 [00:01<00:00, 10.12it/s]\n",
      "eval_accuracy: 0.7475083056478405 f_score: 0.7389689846832705\n",
      "epoch 9 traning loss 0.059779192870244004: 100%|█| 78/78 [00:23<00:00,  3.27it/s\n",
      "07/14/2023 22:49:38 - INFO - processors.util -   Start Evaluation\n",
      "epoch 9 dev loss 0.9301726126945332: 100%|██████| 19/19 [00:01<00:00, 10.05it/s]\n",
      "eval_accuracy: 0.7441860465116279 f_score: 0.7370583514900555\n"
     ]
    }
   ],
   "source": [
    "!sh run.sh"
   ]
  },
  {
   "cell_type": "markdown",
   "metadata": {
    "id": "fCTcCwLxthZz",
    "pycharm": {
     "name": "#%% md\n"
    }
   },
   "source": [
    "# 预测"
   ]
  },
  {
   "cell_type": "code",
   "execution_count": 5,
   "metadata": {
    "colab": {
     "base_uri": "https://localhost:8080/"
    },
    "executionInfo": {
     "elapsed": 57624,
     "status": "ok",
     "timestamp": 1657362106193,
     "user": {
      "displayName": "y fengyu",
      "userId": "14118958655840234398"
     },
     "user_tz": -480
    },
    "id": "f3eFC5O2SI8M",
    "outputId": "c1042c53-6d68-482e-f385-6b259a378326"
   },
   "outputs": [
    {
     "name": "stdout",
     "output_type": "stream",
     "text": [
      ": not found: 2: \n",
      "Some weights of the model checkpoint at bert-base-uncased were not used when initializing mymodel: ['cls.seq_relationship.weight', 'cls.predictions.transform.dense.bias', 'cls.predictions.transform.LayerNorm.weight', 'cls.predictions.transform.dense.weight', 'cls.predictions.transform.LayerNorm.bias', 'cls.predictions.bias', 'cls.seq_relationship.bias']\n",
      "- This IS expected if you are initializing mymodel from the checkpoint of a model trained on another task or with another architecture (e.g. initializing a BertForSequenceClassification model from a BertForPreTraining model).\n",
      "- This IS NOT expected if you are initializing mymodel from the checkpoint of a model that you expect to be exactly identical (initializing a BertForSequenceClassification model from a BertForSequenceClassification model).\n",
      "Some weights of mymodel were not initialized from the model checkpoint at bert-base-uncased and are newly initialized: ['cross_attention.layer.0.attention.self.query.weight', 'BertEncoder.layer.4.attention.self.value.bias', 'BertEncoder.layer.6.attention.self.query.bias', 'BertEncoder.layer.2.output.LayerNorm.bias', 'BertEncoder.layer.2.intermediate.dense.weight', 'BertEncoder.layer.5.output.LayerNorm.bias', 'BertEncoder.layer.0.output.dense.weight', 'BertEncoder.layer.8.attention.self.key.weight', 'BertEncoder.layer.9.attention.self.value.weight', 'BertEncoder.layer.10.output.LayerNorm.weight', 'BertEncoder.layer.5.attention.output.LayerNorm.weight', 'BertEncoder.layer.3.attention.output.LayerNorm.bias', 'cross_attention.layer.0.attention.self.value.weight', 'BertEncoder.layer.3.output.dense.bias', 'BertEncoder.layer.5.attention.self.value.weight', 'BertEncoder.layer.7.attention.self.value.bias', 'BertEncoder.layer.7.output.dense.weight', 'BertEncoder.layer.1.attention.self.query.weight', 'BertEncoder.layer.4.output.dense.weight', 'BertEncoder.layer.0.output.dense.bias', 'BertEncoder.layer.10.intermediate.dense.bias', 'BertEncoder.layer.10.attention.output.LayerNorm.bias', 'img_pooler.dense.bias', 'cross_attention.layer.0.attention.output.dense.bias', 'BertEncoder.layer.7.output.dense.bias', 'BertEncoder.layer.7.output.LayerNorm.weight', 'BertEncoder.layer.4.output.LayerNorm.weight', 'BertEncoder.layer.6.attention.self.value.bias', 'BertEncoder.layer.9.attention.output.dense.bias', 'BertEncoder.layer.1.attention.output.LayerNorm.bias', 'BertEncoder.layer.11.attention.self.key.weight', 'BertEncoder.layer.7.attention.output.LayerNorm.bias', 'BertEncoder.layer.6.output.dense.weight', 'BertEncoder.layer.1.attention.output.LayerNorm.weight', 'BertEncoder.layer.7.output.LayerNorm.bias', 'BertEncoder.layer.2.attention.self.query.bias', 'BertEncoder.layer.9.intermediate.dense.bias', 'BertEncoder.layer.4.intermediate.dense.weight', 'BertEncoder.layer.7.attention.output.dense.bias', 'BertEncoder.layer.0.attention.output.dense.bias', 'BertEncoder.layer.1.output.LayerNorm.bias', 'BertEncoder.layer.4.attention.self.key.bias', 'BertEncoder.layer.5.intermediate.dense.weight', 'BertEncoder.layer.3.output.LayerNorm.bias', 'BertEncoder.layer.10.attention.self.key.bias', 'BertEncoder.layer.5.attention.output.dense.bias', 'BertEncoder.layer.0.intermediate.dense.bias', 'BertEncoder.layer.10.attention.self.key.weight', 'BertEncoder.layer.8.output.dense.weight', 'linear.weight', 'BertEncoder.layer.9.attention.output.LayerNorm.weight', 'BertEncoder.layer.6.intermediate.dense.weight', 'BertEncoder.layer.0.attention.output.dense.weight', 'BertEncoder.layer.4.intermediate.dense.bias', 'BertEncoder.layer.2.attention.self.key.bias', 'BertEncoder.layer.6.attention.output.LayerNorm.weight', 'classifier.bias', 'BertEncoder.layer.1.attention.self.value.bias', 'BertEncoder.layer.8.attention.self.key.bias', 'BertEncoder.layer.1.attention.self.query.bias', 'BertEncoder.layer.6.attention.output.LayerNorm.bias', 'cross_attention.layer.0.attention.self.key.bias', 'BertEncoder.layer.10.attention.self.query.bias', 'BertEncoder.layer.11.attention.output.dense.bias', 'BertEncoder.layer.4.attention.self.key.weight', 'BertEncoder.layer.9.attention.self.key.bias', 'BertEncoder.layer.2.output.LayerNorm.weight', 'BertEncoder.layer.3.attention.self.key.weight', 'cross_attention.layer.0.intermediate.dense.bias', 'BertEncoder.layer.3.attention.output.dense.weight', 'BertEncoder.layer.0.attention.self.value.weight', 'BertEncoder.layer.7.attention.self.query.bias', 'cross_attention.layer.0.attention.self.value.bias', 'BertEncoder.layer.6.attention.output.dense.bias', 'BertEncoder.layer.8.output.LayerNorm.weight', 'BertEncoder.layer.5.output.dense.weight', 'BertEncoder.layer.9.attention.self.query.bias', 'BertEncoder.layer.8.attention.output.dense.weight', 'BertEncoder.layer.5.attention.self.query.bias', 'BertEncoder.layer.5.attention.self.key.bias', 'BertEncoder.layer.2.intermediate.dense.bias', 'BertEncoder.layer.3.intermediate.dense.weight', 'BertEncoder.layer.3.intermediate.dense.bias', 'BertEncoder.layer.0.attention.self.value.bias', 'BertEncoder.layer.4.attention.output.LayerNorm.weight', 'BertEncoder.layer.2.attention.output.LayerNorm.bias', 'BertEncoder.layer.7.attention.self.key.weight', 'BertEncoder.layer.5.intermediate.dense.bias', 'BertEncoder.layer.9.attention.output.dense.weight', 'BertEncoder.layer.1.attention.output.dense.weight', 'BertEncoder.layer.6.attention.output.dense.weight', 'cross_attention.layer.0.output.dense.weight', 'BertEncoder.layer.10.attention.output.dense.weight', 'BertEncoder.layer.11.attention.output.dense.weight', 'BertEncoder.layer.1.output.dense.bias', 'BertEncoder.layer.2.output.dense.weight', 'BertEncoder.layer.1.attention.self.key.weight', 'BertEncoder.layer.2.output.dense.bias', 'BertEncoder.layer.7.attention.output.dense.weight', 'BertEncoder.layer.9.attention.self.key.weight', 'BertEncoder.layer.10.attention.self.query.weight', 'BertEncoder.layer.3.output.dense.weight', 'BertEncoder.layer.8.attention.self.value.weight', 'BertEncoder.layer.11.attention.self.value.weight', 'BertEncoder.layer.1.output.dense.weight', 'BertEncoder.layer.2.attention.self.query.weight', 'BertEncoder.layer.5.attention.self.value.bias', 'BertEncoder.layer.0.output.LayerNorm.weight', 'BertEncoder.layer.6.attention.self.query.weight', 'BertEncoder.layer.10.output.dense.weight', 'BertEncoder.layer.0.attention.output.LayerNorm.bias', 'BertEncoder.layer.7.intermediate.dense.bias', 'BertEncoder.layer.11.attention.self.key.bias', 'BertEncoder.layer.2.attention.output.dense.weight', 'BertEncoder.layer.8.attention.self.query.weight', 'BertEncoder.layer.6.output.dense.bias', 'BertEncoder.layer.8.output.dense.bias', 'BertEncoder.layer.9.output.dense.weight', 'BertEncoder.layer.3.attention.self.value.weight', 'BertEncoder.layer.5.output.dense.bias', 'BertEncoder.layer.10.attention.self.value.weight', 'BertEncoder.layer.8.attention.output.LayerNorm.bias', 'cross_attention.layer.0.output.LayerNorm.bias', 'BertEncoder.layer.7.attention.self.key.bias', 'BertEncoder.layer.1.output.LayerNorm.weight', 'BertEncoder.layer.9.output.LayerNorm.weight', 'BertEncoder.layer.6.attention.self.key.weight', 'BertEncoder.layer.8.attention.output.dense.bias', 'text_pooler1.dense.bias', 'BertEncoder.layer.0.attention.output.LayerNorm.weight', 'text_pooler.dense.weight', 'BertEncoder.layer.4.attention.output.LayerNorm.bias', 'BertEncoder.layer.5.output.LayerNorm.weight', 'BertEncoder.layer.7.intermediate.dense.weight', 'BertEncoder.layer.2.attention.self.value.bias', 'BertEncoder.layer.3.attention.self.key.bias', 'text_pooler.dense.bias', 'BertEncoder.layer.4.output.dense.bias', 'cross_attention.layer.0.attention.output.LayerNorm.weight', 'BertEncoder.layer.8.intermediate.dense.bias', 'BertEncoder.layer.6.output.LayerNorm.weight', 'BertEncoder.layer.7.attention.self.query.weight', 'BertEncoder.layer.2.attention.self.key.weight', 'BertEncoder.layer.0.attention.self.key.bias', 'BertEncoder.layer.4.attention.self.value.weight', 'cross_attention.layer.0.attention.output.dense.weight', 'cross_attention.layer.0.output.LayerNorm.weight', 'BertEncoder.layer.9.attention.self.value.bias', 'BertEncoder.layer.0.intermediate.dense.weight', 'BertEncoder.layer.11.attention.output.LayerNorm.weight', 'BertEncoder.layer.7.attention.output.LayerNorm.weight', 'BertEncoder.layer.4.attention.self.query.bias', 'BertEncoder.layer.4.output.LayerNorm.bias', 'BertEncoder.layer.8.output.LayerNorm.bias', 'BertEncoder.layer.1.attention.self.key.bias', 'BertEncoder.layer.3.output.LayerNorm.weight', 'BertEncoder.layer.11.intermediate.dense.weight', 'BertEncoder.layer.3.attention.self.query.weight', 'BertEncoder.layer.1.attention.output.dense.bias', 'BertEncoder.layer.0.output.LayerNorm.bias', 'BertEncoder.layer.1.intermediate.dense.bias', 'BertEncoder.layer.4.attention.output.dense.weight', 'BertEncoder.layer.11.output.LayerNorm.bias', 'linear.bias', 'cross_attention.layer.0.output.dense.bias', 'BertEncoder.layer.6.attention.self.value.weight', 'BertEncoder.layer.2.attention.output.LayerNorm.weight', 'BertEncoder.layer.8.attention.self.query.bias', 'text_pooler1.dense.weight', 'BertEncoder.layer.7.attention.self.value.weight', 'BertEncoder.layer.9.output.dense.bias', 'BertEncoder.layer.10.intermediate.dense.weight', 'BertEncoder.layer.8.attention.output.LayerNorm.weight', 'BertEncoder.layer.3.attention.output.dense.bias', 'img_pooler.dense.weight', 'BertEncoder.layer.2.attention.output.dense.bias', 'BertEncoder.layer.3.attention.output.LayerNorm.weight', 'BertEncoder.layer.10.output.dense.bias', 'BertEncoder.layer.11.output.dense.bias', 'BertEncoder.layer.2.attention.self.value.weight', 'BertEncoder.layer.3.attention.self.value.bias', 'cross_attention.layer.0.attention.output.LayerNorm.bias', 'BertEncoder.layer.9.intermediate.dense.weight', 'BertEncoder.layer.10.attention.output.LayerNorm.weight', 'BertEncoder.layer.1.attention.self.value.weight', 'BertEncoder.layer.0.attention.self.query.bias', 'BertEncoder.layer.3.attention.self.query.bias', 'BertEncoder.layer.6.attention.self.key.bias', 'BertEncoder.layer.8.attention.self.value.bias', 'BertEncoder.layer.5.attention.output.LayerNorm.bias', 'BertEncoder.layer.1.intermediate.dense.weight', 'BertEncoder.layer.8.intermediate.dense.weight', 'BertEncoder.layer.6.output.LayerNorm.bias', 'cross_attention.layer.0.attention.self.key.weight', 'BertEncoder.layer.10.attention.self.value.bias', 'BertEncoder.layer.9.output.LayerNorm.bias', 'BertEncoder.layer.10.attention.output.dense.bias', 'BertEncoder.layer.11.output.dense.weight', 'BertEncoder.layer.9.attention.output.LayerNorm.bias', 'BertEncoder.layer.10.output.LayerNorm.bias', 'BertEncoder.layer.9.attention.self.query.weight', 'BertEncoder.layer.11.attention.self.value.bias', 'BertEncoder.layer.11.output.LayerNorm.weight', 'BertEncoder.layer.0.attention.self.query.weight', 'cross_attention.layer.0.intermediate.dense.weight', 'BertEncoder.layer.0.attention.self.key.weight', 'BertEncoder.layer.11.attention.self.query.weight', 'BertEncoder.layer.6.intermediate.dense.bias', 'classifier.weight', 'BertEncoder.layer.4.attention.output.dense.bias', 'BertEncoder.layer.4.attention.self.query.weight', 'cross_attention.layer.0.attention.self.query.bias', 'BertEncoder.layer.5.attention.self.query.weight', 'BertEncoder.layer.5.attention.self.key.weight', 'BertEncoder.layer.5.attention.output.dense.weight', 'BertEncoder.layer.11.intermediate.dense.bias', 'BertEncoder.layer.11.attention.self.query.bias', 'BertEncoder.layer.11.attention.output.LayerNorm.bias']\n",
      "You should probably TRAIN this model on a down-stream task to be able to use it for predictions and inference.\n",
      "07/14/2023 22:49:53 - INFO - processors.util -   Start Prediction\n",
      "Testing: 100%|██████████████████████████████████| 32/32 [00:02<00:00, 13.99it/s]\n"
     ]
    }
   ],
   "source": [
    "!sh run_test.sh"
   ]
  }
 ],
 "metadata": {
  "accelerator": "GPU",
  "colab": {
   "collapsed_sections": [],
   "name": "code.ipynb",
   "provenance": [
    {
     "file_id": "1kbcomdfsiBpl0MuY0-BlfNSY6wSw_QLj",
     "timestamp": 1652371605573
    }
   ]
  },
  "gpuClass": "standard",
  "kernelspec": {
   "display_name": "Python 3 (ipykernel)",
   "language": "python",
   "name": "python3"
  },
  "language_info": {
   "codemirror_mode": {
    "name": "ipython",
    "version": 3
   },
   "file_extension": ".py",
   "mimetype": "text/x-python",
   "name": "python",
   "nbconvert_exporter": "python",
   "pygments_lexer": "ipython3",
   "version": "3.8.10"
  }
 },
 "nbformat": 4,
 "nbformat_minor": 4
}